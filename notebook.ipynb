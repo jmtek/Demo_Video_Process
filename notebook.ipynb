{
 "cells": [
  {
   "cell_type": "code",
   "execution_count": 11,
   "metadata": {},
   "outputs": [
    {
     "name": "stdout",
     "output_type": "stream",
     "text": [
      "env: PATH=/Users/jmtek/audio-orchestrator-ffmpeg/bin:$PATH\n"
     ]
    }
   ],
   "source": [
    "%env PATH=/Users/jmtek/audio-orchestrator-ffmpeg/bin:$PATH"
   ]
  },
  {
   "cell_type": "code",
   "execution_count": null,
   "metadata": {},
   "outputs": [],
   "source": [
    "import whisper\n",
    "# import os\n",
    "\n",
    "# os.environ['FFMPEG_BINARY'] = '/Users/jmtek/audio-orchestrator-ffmpeg/bin'\n",
    "\n",
    "model = whisper.load_model(\"small\")\n",
    "result = model.transcribe(\"static/sample.wav\", fp16=False)\n",
    "print(result)\n",
    "\n",
    "print(\"text:\\n\\n\" + result[\"text\"])\n",
    "print(\"segments:\\n\\n\" + str(result[\"segments\"]))"
   ]
  }
 ],
 "metadata": {
  "kernelspec": {
   "display_name": "Python 3",
   "language": "python",
   "name": "python3"
  },
  "language_info": {
   "codemirror_mode": {
    "name": "ipython",
    "version": 3
   },
   "file_extension": ".py",
   "mimetype": "text/x-python",
   "name": "python",
   "nbconvert_exporter": "python",
   "pygments_lexer": "ipython3",
   "version": "3.10.9"
  },
  "orig_nbformat": 4
 },
 "nbformat": 4,
 "nbformat_minor": 2
}
